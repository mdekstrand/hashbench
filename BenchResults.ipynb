{
  "cells": [
    {
      "cell_type": "markdown",
      "metadata": {},
      "source": [
        "# HashBench results\n",
        "\n",
        "# Benchmark Results\n",
        "\n",
        "This notebook shows the results of running the benchmark program on\n",
        "various systems.\n",
        "\n",
        "## Setup\n",
        "\n",
        "Let’s import some libraries we will need:"
      ],
      "id": "f32b6d3e-8e10-4975-b231-b6d23b407083"
    },
    {
      "cell_type": "code",
      "execution_count": 1,
      "metadata": {},
      "outputs": [],
      "source": [
        "from pathlib import Path\n",
        "import pandas as pd\n",
        "import matplotlib.pyplot as plt"
      ],
      "id": "663f65b5-88f8-4e4e-a07f-16ca93801c22"
    },
    {
      "cell_type": "markdown",
      "metadata": {},
      "source": [
        "And import the results:"
      ],
      "id": "a5fcf8f1-08e5-4000-8b99-3c4a1677fed9"
    },
    {
      "cell_type": "code",
      "execution_count": 2,
      "metadata": {},
      "outputs": [],
      "source": [
        "rdir = Path('results')"
      ],
      "id": "1c4cde8f-b7da-4673-9872-616f21498727"
    },
    {
      "cell_type": "code",
      "execution_count": 3,
      "metadata": {},
      "outputs": [],
      "source": [
        "results = pd.concat({\n",
        "    f.stem: pd.read_table(f, sep='\\t')\n",
        "    for f in rdir.glob('*.tsv')\n",
        "}, names=['System']).reset_index('System').reset_index(drop=True)"
      ],
      "id": "22fa9c9d-692f-432e-b0c7-ed76716ed31c"
    },
    {
      "cell_type": "markdown",
      "metadata": {},
      "source": [
        "## Result Table\n",
        "\n",
        "Let’s compute a result table, showing MiB/s for each algorithm:"
      ],
      "id": "431ca58c-5740-4711-8510-20c629d17367"
    },
    {
      "cell_type": "code",
      "execution_count": 4,
      "metadata": {},
      "outputs": [
        {
          "output_type": "display_data",
          "metadata": {},
          "data": {
            "text/html": [
              "<style type=\"text/css\">\n",
              "</style>\n",
              "<table id=\"T_fee9d\" class=\"dataframe table table-striped\">\n",
              "  <thead>\n",
              "    <tr>\n",
              "      <th class=\"index_name level0\" >hash</th>\n",
              "      <th id=\"T_fee9d_level0_col0\" class=\"col_heading level0 col0\" >Blake2b-256</th>\n",
              "      <th id=\"T_fee9d_level0_col1\" class=\"col_heading level0 col1\" >MD5</th>\n",
              "      <th id=\"T_fee9d_level0_col2\" class=\"col_heading level0 col2\" >SHA-1</th>\n",
              "      <th id=\"T_fee9d_level0_col3\" class=\"col_heading level0 col3\" >SHA-256</th>\n",
              "      <th id=\"T_fee9d_level0_col4\" class=\"col_heading level0 col4\" >SHA-512</th>\n",
              "      <th id=\"T_fee9d_level0_col5\" class=\"col_heading level0 col5\" >SHA3-256</th>\n",
              "      <th id=\"T_fee9d_level0_col6\" class=\"col_heading level0 col6\" >SHA3-512</th>\n",
              "    </tr>\n",
              "    <tr>\n",
              "      <th class=\"index_name level0\" >System</th>\n",
              "      <th class=\"blank col0\" >&nbsp;</th>\n",
              "      <th class=\"blank col1\" >&nbsp;</th>\n",
              "      <th class=\"blank col2\" >&nbsp;</th>\n",
              "      <th class=\"blank col3\" >&nbsp;</th>\n",
              "      <th class=\"blank col4\" >&nbsp;</th>\n",
              "      <th class=\"blank col5\" >&nbsp;</th>\n",
              "      <th class=\"blank col6\" >&nbsp;</th>\n",
              "    </tr>\n",
              "  </thead>\n",
              "  <tbody>\n",
              "    <tr>\n",
              "      <th id=\"T_fee9d_level0_row0\" class=\"row_heading level0 row0\" >Atom D2701</th>\n",
              "      <td id=\"T_fee9d_row0_col0\" class=\"data row0 col0\" >168.9</td>\n",
              "      <td id=\"T_fee9d_row0_col1\" class=\"data row0 col1\" >205.9</td>\n",
              "      <td id=\"T_fee9d_row0_col2\" class=\"data row0 col2\" >112.7</td>\n",
              "      <td id=\"T_fee9d_row0_col3\" class=\"data row0 col3\" >52.8</td>\n",
              "      <td id=\"T_fee9d_row0_col4\" class=\"data row0 col4\" >89.1</td>\n",
              "      <td id=\"T_fee9d_row0_col5\" class=\"data row0 col5\" >57.8</td>\n",
              "      <td id=\"T_fee9d_row0_col6\" class=\"data row0 col6\" >30.8</td>\n",
              "    </tr>\n",
              "    <tr>\n",
              "      <th id=\"T_fee9d_level0_row1\" class=\"row_heading level0 row1\" >MBA M2</th>\n",
              "      <td id=\"T_fee9d_row1_col0\" class=\"data row1 col0\" >1058.8</td>\n",
              "      <td id=\"T_fee9d_row1_col1\" class=\"data row1 col1\" >594.7</td>\n",
              "      <td id=\"T_fee9d_row1_col2\" class=\"data row1 col2\" >964.8</td>\n",
              "      <td id=\"T_fee9d_row1_col3\" class=\"data row1 col3\" >341.8</td>\n",
              "      <td id=\"T_fee9d_row1_col4\" class=\"data row1 col4\" >553.8</td>\n",
              "      <td id=\"T_fee9d_row1_col5\" class=\"data row1 col5\" >611.6</td>\n",
              "      <td id=\"T_fee9d_row1_col6\" class=\"data row1 col6\" >328.1</td>\n",
              "    </tr>\n",
              "    <tr>\n",
              "      <th id=\"T_fee9d_level0_row2\" class=\"row_heading level0 row2\" >RK3568</th>\n",
              "      <td id=\"T_fee9d_row2_col0\" class=\"data row2 col0\" >278.4</td>\n",
              "      <td id=\"T_fee9d_row2_col1\" class=\"data row2 col1\" >239.7</td>\n",
              "      <td id=\"T_fee9d_row2_col2\" class=\"data row2 col2\" >223.1</td>\n",
              "      <td id=\"T_fee9d_row2_col3\" class=\"data row2 col3\" >107.1</td>\n",
              "      <td id=\"T_fee9d_row2_col4\" class=\"data row2 col4\" >174.6</td>\n",
              "      <td id=\"T_fee9d_row2_col5\" class=\"data row2 col5\" >113.8</td>\n",
              "      <td id=\"T_fee9d_row2_col6\" class=\"data row2 col6\" >61.6</td>\n",
              "    </tr>\n",
              "    <tr>\n",
              "      <th id=\"T_fee9d_level0_row3\" class=\"row_heading level0 row3\" >RPi 4</th>\n",
              "      <td id=\"T_fee9d_row3_col0\" class=\"data row3 col0\" >nan</td>\n",
              "      <td id=\"T_fee9d_row3_col1\" class=\"data row3 col1\" >248.0</td>\n",
              "      <td id=\"T_fee9d_row3_col2\" class=\"data row3 col2\" >184.5</td>\n",
              "      <td id=\"T_fee9d_row3_col3\" class=\"data row3 col3\" >107.8</td>\n",
              "      <td id=\"T_fee9d_row3_col4\" class=\"data row3 col4\" >178.6</td>\n",
              "      <td id=\"T_fee9d_row3_col5\" class=\"data row3 col5\" >110.4</td>\n",
              "      <td id=\"T_fee9d_row3_col6\" class=\"data row3 col6\" >59.1</td>\n",
              "    </tr>\n",
              "    <tr>\n",
              "      <th id=\"T_fee9d_level0_row4\" class=\"row_heading level0 row4\" >i7-1185G7 SL4</th>\n",
              "      <td id=\"T_fee9d_row4_col0\" class=\"data row4 col0\" >539.1</td>\n",
              "      <td id=\"T_fee9d_row4_col1\" class=\"data row4 col1\" >546.0</td>\n",
              "      <td id=\"T_fee9d_row4_col2\" class=\"data row4 col2\" >1646.8</td>\n",
              "      <td id=\"T_fee9d_row4_col3\" class=\"data row4 col3\" >1426.0</td>\n",
              "      <td id=\"T_fee9d_row4_col4\" class=\"data row4 col4\" >435.8</td>\n",
              "      <td id=\"T_fee9d_row4_col5\" class=\"data row4 col5\" >241.3</td>\n",
              "      <td id=\"T_fee9d_row4_col6\" class=\"data row4 col6\" >143.7</td>\n",
              "    </tr>\n",
              "    <tr>\n",
              "      <th id=\"T_fee9d_level0_row5\" class=\"row_heading level0 row5\" >i9-9900</th>\n",
              "      <td id=\"T_fee9d_row5_col0\" class=\"data row5 col0\" >1059.3</td>\n",
              "      <td id=\"T_fee9d_row5_col1\" class=\"data row5 col1\" >791.6</td>\n",
              "      <td id=\"T_fee9d_row5_col2\" class=\"data row5 col2\" >738.4</td>\n",
              "      <td id=\"T_fee9d_row5_col3\" class=\"data row5 col3\" >285.3</td>\n",
              "      <td id=\"T_fee9d_row5_col4\" class=\"data row5 col4\" >545.6</td>\n",
              "      <td id=\"T_fee9d_row5_col5\" class=\"data row5 col5\" >372.4</td>\n",
              "      <td id=\"T_fee9d_row5_col6\" class=\"data row5 col6\" >199.2</td>\n",
              "    </tr>\n",
              "  </tbody>\n",
              "</table>"
            ]
          }
        }
      ],
      "source": [
        "tbl = results.pivot(index='System', columns='hash', values='MiB/s')\n",
        "tbl.style.format(precision=1).set_table_attributes('class=\"dataframe table table-striped\"')"
      ],
      "id": "a107ad87-d0f5-463b-a4c4-2e001170f047"
    },
    {
      "cell_type": "markdown",
      "metadata": {},
      "source": [
        "And a barchart for fun:"
      ],
      "id": "4f7171b7-e379-42db-8779-87374824d0f4"
    },
    {
      "cell_type": "code",
      "execution_count": 5,
      "metadata": {},
      "outputs": [
        {
          "output_type": "display_data",
          "metadata": {},
          "data": {
            "image/png": "[encoded data removed]"
          }
        }
      ],
      "source": [
        "tbl.T.plot.barh()\n",
        "plt.xlabel('MiB/s')\n",
        "plt.ylabel('Hash')\n",
        "plt.show()"
      ],
      "id": "6424fdc9-ccf3-49d0-8d60-78f69bdb2b18"
    },
    {
      "cell_type": "markdown",
      "metadata": {},
      "source": [
        "The i7-11xx processors have Intel’s SHA hash extensions which RustCrypto\n",
        "can use for SHA-1 and SHA-256, which explains the substantially higher\n",
        "performance of those hashes on that chip, even though it is a laptop CPU\n",
        "(compared to the desktop i9 in the test processors)."
      ],
      "id": "73d140f5-592e-40c5-b55e-9a8f518ed0c4"
    }
  ],
  "nbformat": 4,
  "nbformat_minor": 5,
  "metadata": {
    "kernelspec": {
      "name": "python3",
      "display_name": "Python 3 (ipykernel)",
      "language": "python"
    }
  }
}