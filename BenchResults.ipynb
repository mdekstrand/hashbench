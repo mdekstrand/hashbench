{
  "cells": [
    {
      "cell_type": "markdown",
      "metadata": {},
      "source": [
        "# HashBench results\n",
        "\n",
        "# Benchmark Results\n",
        "\n",
        "This notebook shows the results of running the benchmark program on\n",
        "various systems.\n",
        "\n",
        "## Setup\n",
        "\n",
        "Let’s import some libraries we will need:"
      ],
      "id": "28db692d-8621-47a9-805a-46e7f8dbe6f6"
    },
    {
      "cell_type": "code",
      "execution_count": 1,
      "metadata": {},
      "outputs": [],
      "source": [
        "from pathlib import Path\n",
        "import pandas as pd\n",
        "import matplotlib.pyplot as plt"
      ],
      "id": "49bb9d43-2647-4c11-8c72-85eb10540476"
    },
    {
      "cell_type": "markdown",
      "metadata": {},
      "source": [
        "And import the results:"
      ],
      "id": "ece21ec9-9152-45ae-82e3-5dbba56668fa"
    },
    {
      "cell_type": "code",
      "execution_count": 2,
      "metadata": {},
      "outputs": [],
      "source": [
        "rdir = Path('results')"
      ],
      "id": "533db770-7761-40ec-9703-cbd393061be6"
    },
    {
      "cell_type": "code",
      "execution_count": 3,
      "metadata": {},
      "outputs": [],
      "source": [
        "results = pd.concat({\n",
        "    f.stem: pd.read_table(f, sep='\\t')\n",
        "    for f in rdir.glob('*.tsv')\n",
        "}, names=['System']).reset_index('System').reset_index(drop=True)"
      ],
      "id": "df271313-5976-4acd-a381-e928f27fc5bd"
    },
    {
      "cell_type": "markdown",
      "metadata": {},
      "source": [
        "## Result Table\n",
        "\n",
        "Let’s compute a result table, showing MiB/s for each algorithm:"
      ],
      "id": "40210184-3679-4193-aec7-1a682c7be741"
    },
    {
      "cell_type": "code",
      "execution_count": 4,
      "metadata": {},
      "outputs": [
        {
          "output_type": "display_data",
          "metadata": {},
          "data": {
            "text/html": [
              "<style type=\"text/css\">\n",
              "</style>\n",
              "<table id=\"T_54f0c\" class=\"dataframe table table-striped\">\n",
              "  <thead>\n",
              "    <tr>\n",
              "      <th class=\"index_name level0\" >hash</th>\n",
              "      <th id=\"T_54f0c_level0_col0\" class=\"col_heading level0 col0\" >Blake2b-256</th>\n",
              "      <th id=\"T_54f0c_level0_col1\" class=\"col_heading level0 col1\" >MD5</th>\n",
              "      <th id=\"T_54f0c_level0_col2\" class=\"col_heading level0 col2\" >SHA-1</th>\n",
              "      <th id=\"T_54f0c_level0_col3\" class=\"col_heading level0 col3\" >SHA-256</th>\n",
              "      <th id=\"T_54f0c_level0_col4\" class=\"col_heading level0 col4\" >SHA-512</th>\n",
              "      <th id=\"T_54f0c_level0_col5\" class=\"col_heading level0 col5\" >SHA3-256</th>\n",
              "      <th id=\"T_54f0c_level0_col6\" class=\"col_heading level0 col6\" >SHA3-512</th>\n",
              "    </tr>\n",
              "    <tr>\n",
              "      <th class=\"index_name level0\" >System</th>\n",
              "      <th class=\"blank col0\" >&nbsp;</th>\n",
              "      <th class=\"blank col1\" >&nbsp;</th>\n",
              "      <th class=\"blank col2\" >&nbsp;</th>\n",
              "      <th class=\"blank col3\" >&nbsp;</th>\n",
              "      <th class=\"blank col4\" >&nbsp;</th>\n",
              "      <th class=\"blank col5\" >&nbsp;</th>\n",
              "      <th class=\"blank col6\" >&nbsp;</th>\n",
              "    </tr>\n",
              "  </thead>\n",
              "  <tbody>\n",
              "    <tr>\n",
              "      <th id=\"T_54f0c_level0_row0\" class=\"row_heading level0 row0\" >Atom D2701</th>\n",
              "      <td id=\"T_54f0c_row0_col0\" class=\"data row0 col0\" >nan</td>\n",
              "      <td id=\"T_54f0c_row0_col1\" class=\"data row0 col1\" >173.4</td>\n",
              "      <td id=\"T_54f0c_row0_col2\" class=\"data row0 col2\" >117.0</td>\n",
              "      <td id=\"T_54f0c_row0_col3\" class=\"data row0 col3\" >24.0</td>\n",
              "      <td id=\"T_54f0c_row0_col4\" class=\"data row0 col4\" >77.1</td>\n",
              "      <td id=\"T_54f0c_row0_col5\" class=\"data row0 col5\" >48.1</td>\n",
              "      <td id=\"T_54f0c_row0_col6\" class=\"data row0 col6\" >29.0</td>\n",
              "    </tr>\n",
              "    <tr>\n",
              "      <th id=\"T_54f0c_level0_row1\" class=\"row_heading level0 row1\" >MBA M2</th>\n",
              "      <td id=\"T_54f0c_row1_col0\" class=\"data row1 col0\" >1058.8</td>\n",
              "      <td id=\"T_54f0c_row1_col1\" class=\"data row1 col1\" >594.7</td>\n",
              "      <td id=\"T_54f0c_row1_col2\" class=\"data row1 col2\" >964.8</td>\n",
              "      <td id=\"T_54f0c_row1_col3\" class=\"data row1 col3\" >341.8</td>\n",
              "      <td id=\"T_54f0c_row1_col4\" class=\"data row1 col4\" >553.8</td>\n",
              "      <td id=\"T_54f0c_row1_col5\" class=\"data row1 col5\" >611.6</td>\n",
              "      <td id=\"T_54f0c_row1_col6\" class=\"data row1 col6\" >328.1</td>\n",
              "    </tr>\n",
              "    <tr>\n",
              "      <th id=\"T_54f0c_level0_row2\" class=\"row_heading level0 row2\" >RK3568</th>\n",
              "      <td id=\"T_54f0c_row2_col0\" class=\"data row2 col0\" >278.4</td>\n",
              "      <td id=\"T_54f0c_row2_col1\" class=\"data row2 col1\" >239.7</td>\n",
              "      <td id=\"T_54f0c_row2_col2\" class=\"data row2 col2\" >223.1</td>\n",
              "      <td id=\"T_54f0c_row2_col3\" class=\"data row2 col3\" >107.1</td>\n",
              "      <td id=\"T_54f0c_row2_col4\" class=\"data row2 col4\" >174.6</td>\n",
              "      <td id=\"T_54f0c_row2_col5\" class=\"data row2 col5\" >113.8</td>\n",
              "      <td id=\"T_54f0c_row2_col6\" class=\"data row2 col6\" >61.6</td>\n",
              "    </tr>\n",
              "    <tr>\n",
              "      <th id=\"T_54f0c_level0_row3\" class=\"row_heading level0 row3\" >RPi 4</th>\n",
              "      <td id=\"T_54f0c_row3_col0\" class=\"data row3 col0\" >nan</td>\n",
              "      <td id=\"T_54f0c_row3_col1\" class=\"data row3 col1\" >248.0</td>\n",
              "      <td id=\"T_54f0c_row3_col2\" class=\"data row3 col2\" >184.5</td>\n",
              "      <td id=\"T_54f0c_row3_col3\" class=\"data row3 col3\" >107.8</td>\n",
              "      <td id=\"T_54f0c_row3_col4\" class=\"data row3 col4\" >178.6</td>\n",
              "      <td id=\"T_54f0c_row3_col5\" class=\"data row3 col5\" >110.4</td>\n",
              "      <td id=\"T_54f0c_row3_col6\" class=\"data row3 col6\" >59.1</td>\n",
              "    </tr>\n",
              "    <tr>\n",
              "      <th id=\"T_54f0c_level0_row4\" class=\"row_heading level0 row4\" >i7-1185G7 SL4</th>\n",
              "      <td id=\"T_54f0c_row4_col0\" class=\"data row4 col0\" >539.1</td>\n",
              "      <td id=\"T_54f0c_row4_col1\" class=\"data row4 col1\" >546.0</td>\n",
              "      <td id=\"T_54f0c_row4_col2\" class=\"data row4 col2\" >1646.8</td>\n",
              "      <td id=\"T_54f0c_row4_col3\" class=\"data row4 col3\" >1426.0</td>\n",
              "      <td id=\"T_54f0c_row4_col4\" class=\"data row4 col4\" >435.8</td>\n",
              "      <td id=\"T_54f0c_row4_col5\" class=\"data row4 col5\" >241.3</td>\n",
              "      <td id=\"T_54f0c_row4_col6\" class=\"data row4 col6\" >143.7</td>\n",
              "    </tr>\n",
              "    <tr>\n",
              "      <th id=\"T_54f0c_level0_row5\" class=\"row_heading level0 row5\" >i9-9900</th>\n",
              "      <td id=\"T_54f0c_row5_col0\" class=\"data row5 col0\" >nan</td>\n",
              "      <td id=\"T_54f0c_row5_col1\" class=\"data row5 col1\" >789.1</td>\n",
              "      <td id=\"T_54f0c_row5_col2\" class=\"data row5 col2\" >741.0</td>\n",
              "      <td id=\"T_54f0c_row5_col3\" class=\"data row5 col3\" >288.7</td>\n",
              "      <td id=\"T_54f0c_row5_col4\" class=\"data row5 col4\" >548.6</td>\n",
              "      <td id=\"T_54f0c_row5_col5\" class=\"data row5 col5\" >374.8</td>\n",
              "      <td id=\"T_54f0c_row5_col6\" class=\"data row5 col6\" >198.4</td>\n",
              "    </tr>\n",
              "  </tbody>\n",
              "</table>"
            ]
          }
        }
      ],
      "source": [
        "tbl = results.pivot(index='System', columns='hash', values='MiB/s')\n",
        "tbl.style.format(precision=1).set_table_attributes('class=\"dataframe table table-striped\"')"
      ],
      "id": "240d7a32-31f8-422f-9f47-180f8dfd9c12"
    },
    {
      "cell_type": "markdown",
      "metadata": {},
      "source": [
        "And a barchart for fun:"
      ],
      "id": "7437e2a8-f67b-4771-8557-ab2a67b929db"
    },
    {
      "cell_type": "code",
      "execution_count": 5,
      "metadata": {},
      "outputs": [
        {
          "output_type": "display_data",
          "metadata": {},
          "data": {
            "image/png": "[encoded data removed]"
          }
        }
      ],
      "source": [
        "tbl.T.plot.barh()\n",
        "plt.xlabel('MiB/s')\n",
        "plt.ylabel('Hash')\n",
        "plt.show()"
      ],
      "id": "45202f6b-c632-4726-b394-8012c5b6ef1e"
    },
    {
      "cell_type": "markdown",
      "metadata": {},
      "source": [
        "The i7-11xx processors have Intel’s SHA hash extensions which RustCrypto\n",
        "can use for SHA-1 and SHA-256, which explains the substantially higher\n",
        "performance of those hashes on that chip, even though it is a laptop CPU\n",
        "(compared to the desktop i9 in the test processors)."
      ],
      "id": "700edef5-2f4c-4175-9df4-b08ba48ff9d6"
    }
  ],
  "nbformat": 4,
  "nbformat_minor": 5,
  "metadata": {
    "kernelspec": {
      "name": "python3",
      "display_name": "Python 3 (ipykernel)",
      "language": "python"
    }
  }
}