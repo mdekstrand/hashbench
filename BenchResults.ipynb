{
 "cells": [
  {
   "cell_type": "markdown",
   "id": "76b9d261",
   "metadata": {},
   "source": [
    "# Benchmark Results\n",
    "\n",
    "This notebook shows the results of running the benchmark program on various systems.\n",
    "\n",
    "## Setup\n",
    "\n",
    "Let's import some libraries we will need:"
   ]
  },
  {
   "cell_type": "code",
   "execution_count": 1,
   "id": "84cb8e52",
   "metadata": {
    "execution": {
     "iopub.execute_input": "2023-01-19T15:50:30.909660Z",
     "iopub.status.busy": "2023-01-19T15:50:30.909660Z",
     "iopub.status.idle": "2023-01-19T15:50:37.788094Z",
     "shell.execute_reply": "2023-01-19T15:50:37.786721Z"
    }
   },
   "outputs": [],
   "source": [
    "from pathlib import Path\n",
    "import pandas as pd\n",
    "import matplotlib.pyplot as plt"
   ]
  },
  {
   "cell_type": "markdown",
   "id": "6e1df228",
   "metadata": {},
   "source": [
    "And import the results:"
   ]
  },
  {
   "cell_type": "code",
   "execution_count": 2,
   "id": "e92ec505",
   "metadata": {
    "execution": {
     "iopub.execute_input": "2023-01-19T15:50:37.791855Z",
     "iopub.status.busy": "2023-01-19T15:50:37.791855Z",
     "iopub.status.idle": "2023-01-19T15:50:37.821601Z",
     "shell.execute_reply": "2023-01-19T15:50:37.818660Z"
    }
   },
   "outputs": [],
   "source": [
    "rdir = Path('results')"
   ]
  },
  {
   "cell_type": "code",
   "execution_count": 3,
   "id": "ecf14456",
   "metadata": {
    "execution": {
     "iopub.execute_input": "2023-01-19T15:50:37.821601Z",
     "iopub.status.busy": "2023-01-19T15:50:37.821601Z",
     "iopub.status.idle": "2023-01-19T15:50:37.913871Z",
     "shell.execute_reply": "2023-01-19T15:50:37.913871Z"
    }
   },
   "outputs": [],
   "source": [
    "results = pd.concat({\n",
    "    f.stem: pd.read_table(f, sep='\\t')\n",
    "    for f in rdir.glob('*.tsv')\n",
    "}, names=['System']).reset_index('System').reset_index(drop=True)"
   ]
  },
  {
   "cell_type": "markdown",
   "id": "68c6ab27",
   "metadata": {},
   "source": [
    "## Result Table\n",
    "\n",
    "Let's compute a result table, showing MiB/s for each algorithm:"
   ]
  },
  {
   "cell_type": "code",
   "execution_count": 4,
   "id": "a75d19b1",
   "metadata": {
    "execution": {
     "iopub.execute_input": "2023-01-19T15:50:37.922354Z",
     "iopub.status.busy": "2023-01-19T15:50:37.922354Z",
     "iopub.status.idle": "2023-01-19T15:50:38.104868Z",
     "shell.execute_reply": "2023-01-19T15:50:38.104284Z"
    }
   },
   "outputs": [
    {
     "data": {
      "text/html": [
       "<style type=\"text/css\">\n",
       "</style>\n",
       "<table id=\"T_e7242\" class=\"dataframe table table-striped\">\n",
       "  <thead>\n",
       "    <tr>\n",
       "      <th class=\"index_name level0\" >hash</th>\n",
       "      <th id=\"T_e7242_level0_col0\" class=\"col_heading level0 col0\" >MD5</th>\n",
       "      <th id=\"T_e7242_level0_col1\" class=\"col_heading level0 col1\" >SHA-1</th>\n",
       "      <th id=\"T_e7242_level0_col2\" class=\"col_heading level0 col2\" >SHA-256</th>\n",
       "      <th id=\"T_e7242_level0_col3\" class=\"col_heading level0 col3\" >SHA-512</th>\n",
       "      <th id=\"T_e7242_level0_col4\" class=\"col_heading level0 col4\" >SHA3-256</th>\n",
       "      <th id=\"T_e7242_level0_col5\" class=\"col_heading level0 col5\" >SHA3-512</th>\n",
       "    </tr>\n",
       "    <tr>\n",
       "      <th class=\"index_name level0\" >System</th>\n",
       "      <th class=\"blank col0\" >&nbsp;</th>\n",
       "      <th class=\"blank col1\" >&nbsp;</th>\n",
       "      <th class=\"blank col2\" >&nbsp;</th>\n",
       "      <th class=\"blank col3\" >&nbsp;</th>\n",
       "      <th class=\"blank col4\" >&nbsp;</th>\n",
       "      <th class=\"blank col5\" >&nbsp;</th>\n",
       "    </tr>\n",
       "  </thead>\n",
       "  <tbody>\n",
       "    <tr>\n",
       "      <th id=\"T_e7242_level0_row0\" class=\"row_heading level0 row0\" >Atom D2701</th>\n",
       "      <td id=\"T_e7242_row0_col0\" class=\"data row0 col0\" >173.4</td>\n",
       "      <td id=\"T_e7242_row0_col1\" class=\"data row0 col1\" >117.0</td>\n",
       "      <td id=\"T_e7242_row0_col2\" class=\"data row0 col2\" >24.0</td>\n",
       "      <td id=\"T_e7242_row0_col3\" class=\"data row0 col3\" >77.1</td>\n",
       "      <td id=\"T_e7242_row0_col4\" class=\"data row0 col4\" >48.1</td>\n",
       "      <td id=\"T_e7242_row0_col5\" class=\"data row0 col5\" >29.0</td>\n",
       "    </tr>\n",
       "    <tr>\n",
       "      <th id=\"T_e7242_level0_row1\" class=\"row_heading level0 row1\" >MBA M2</th>\n",
       "      <td id=\"T_e7242_row1_col0\" class=\"data row1 col0\" >594.7</td>\n",
       "      <td id=\"T_e7242_row1_col1\" class=\"data row1 col1\" >864.4</td>\n",
       "      <td id=\"T_e7242_row1_col2\" class=\"data row1 col2\" >347.1</td>\n",
       "      <td id=\"T_e7242_row1_col3\" class=\"data row1 col3\" >552.3</td>\n",
       "      <td id=\"T_e7242_row1_col4\" class=\"data row1 col4\" >613.4</td>\n",
       "      <td id=\"T_e7242_row1_col5\" class=\"data row1 col5\" >323.6</td>\n",
       "    </tr>\n",
       "    <tr>\n",
       "      <th id=\"T_e7242_level0_row2\" class=\"row_heading level0 row2\" >RPi 4</th>\n",
       "      <td id=\"T_e7242_row2_col0\" class=\"data row2 col0\" >248.0</td>\n",
       "      <td id=\"T_e7242_row2_col1\" class=\"data row2 col1\" >184.5</td>\n",
       "      <td id=\"T_e7242_row2_col2\" class=\"data row2 col2\" >107.8</td>\n",
       "      <td id=\"T_e7242_row2_col3\" class=\"data row2 col3\" >178.6</td>\n",
       "      <td id=\"T_e7242_row2_col4\" class=\"data row2 col4\" >110.4</td>\n",
       "      <td id=\"T_e7242_row2_col5\" class=\"data row2 col5\" >59.1</td>\n",
       "    </tr>\n",
       "    <tr>\n",
       "      <th id=\"T_e7242_level0_row3\" class=\"row_heading level0 row3\" >i7-1185G7 SL4</th>\n",
       "      <td id=\"T_e7242_row3_col0\" class=\"data row3 col0\" >575.9</td>\n",
       "      <td id=\"T_e7242_row3_col1\" class=\"data row3 col1\" >1774.3</td>\n",
       "      <td id=\"T_e7242_row3_col2\" class=\"data row3 col2\" >1652.5</td>\n",
       "      <td id=\"T_e7242_row3_col3\" class=\"data row3 col3\" >483.4</td>\n",
       "      <td id=\"T_e7242_row3_col4\" class=\"data row3 col4\" >348.4</td>\n",
       "      <td id=\"T_e7242_row3_col5\" class=\"data row3 col5\" >182.7</td>\n",
       "    </tr>\n",
       "    <tr>\n",
       "      <th id=\"T_e7242_level0_row4\" class=\"row_heading level0 row4\" >i9-9900</th>\n",
       "      <td id=\"T_e7242_row4_col0\" class=\"data row4 col0\" >789.1</td>\n",
       "      <td id=\"T_e7242_row4_col1\" class=\"data row4 col1\" >741.0</td>\n",
       "      <td id=\"T_e7242_row4_col2\" class=\"data row4 col2\" >288.7</td>\n",
       "      <td id=\"T_e7242_row4_col3\" class=\"data row4 col3\" >548.6</td>\n",
       "      <td id=\"T_e7242_row4_col4\" class=\"data row4 col4\" >374.8</td>\n",
       "      <td id=\"T_e7242_row4_col5\" class=\"data row4 col5\" >198.4</td>\n",
       "    </tr>\n",
       "  </tbody>\n",
       "</table>\n"
      ],
      "text/plain": [
       "<pandas.io.formats.style.Styler at 0x1b67e1538b0>"
      ]
     },
     "execution_count": 4,
     "metadata": {},
     "output_type": "execute_result"
    }
   ],
   "source": [
    "tbl = results.pivot(index='System', columns='hash', values='MiB/s')\n",
    "tbl.style.format(precision=1).set_table_attributes('class=\"dataframe table table-striped\"')"
   ]
  },
  {
   "cell_type": "markdown",
   "id": "ab10e6a0",
   "metadata": {},
   "source": [
    "And a barchart for fun:"
   ]
  },
  {
   "cell_type": "code",
   "execution_count": 5,
   "id": "b378cded",
   "metadata": {
    "execution": {
     "iopub.execute_input": "2023-01-19T15:50:38.109482Z",
     "iopub.status.busy": "2023-01-19T15:50:38.109482Z",
     "iopub.status.idle": "2023-01-19T15:50:38.687942Z",
     "shell.execute_reply": "2023-01-19T15:50:38.687007Z"
    }
   },
   "outputs": [
    {
     "data": {
      "image/png": "[encoded data removed]",
      "text/plain": [
       "<Figure size 640x480 with 1 Axes>"
      ]
     },
     "metadata": {},
     "output_type": "display_data"
    }
   ],
   "source": [
    "tbl.T.plot.barh()\n",
    "plt.xlabel('MiB/s')\n",
    "plt.ylabel('Hash')\n",
    "plt.show()"
   ]
  },
  {
   "cell_type": "markdown",
   "id": "469b0fa4",
   "metadata": {},
   "source": [
    "The i7-11xx processors have Intel's SHA hash extensions which RustCrypto can use\n",
    "for SHA-1 and SHA-256, which explains the substantially higher performance of\n",
    "those hashes on that chip, even though it is a laptop CPU (compared to the\n",
    "desktop i9 in the test processors)."
   ]
  }
 ],
 "metadata": {
  "jupytext": {
   "formats": "ipynb,md"
  },
  "kernelspec": {
   "display_name": "Python 3",
   "language": "python",
   "name": "python3"
  },
  "language_info": {
   "codemirror_mode": {
    "name": "ipython",
    "version": 3
   },
   "file_extension": ".py",
   "mimetype": "text/x-python",
   "name": "python",
   "nbconvert_exporter": "python",
   "pygments_lexer": "ipython3",
   "version": "3.10.8"
  }
 },
 "nbformat": 4,
 "nbformat_minor": 5
}
