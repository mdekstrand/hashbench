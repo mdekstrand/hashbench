{
  "cells": [
    {
      "cell_type": "markdown",
      "metadata": {},
      "source": [
        "# Benchmark Results\n",
        "\n",
        "This notebook shows the results of running the benchmark program on\n",
        "various systems.\n",
        "\n",
        "## Setup\n",
        "\n",
        "Let’s import some libraries we will need:"
      ],
      "id": "5ac367e8-610f-43ef-ab0e-0b0cc9026f66"
    },
    {
      "cell_type": "code",
      "execution_count": 1,
      "metadata": {},
      "outputs": [],
      "source": [
        "from pathlib import Path\n",
        "import pandas as pd\n",
        "import matplotlib.pyplot as plt"
      ],
      "id": "3c8167c1-5be7-413c-af44-b77733539af1"
    },
    {
      "cell_type": "markdown",
      "metadata": {},
      "source": [
        "And import the results:"
      ],
      "id": "653a0aa7-0ec1-4365-8ff0-c0ee640f2d91"
    },
    {
      "cell_type": "code",
      "execution_count": 2,
      "metadata": {},
      "outputs": [],
      "source": [
        "rdir = Path('results')"
      ],
      "id": "bb067a13-ef88-4adb-a907-fb98cec14178"
    },
    {
      "cell_type": "code",
      "execution_count": 3,
      "metadata": {},
      "outputs": [],
      "source": [
        "results = pd.concat({\n",
        "    f.stem: pd.read_table(f, sep='\\t')\n",
        "    for f in rdir.glob('*.tsv')\n",
        "}, names=['System']).reset_index('System').reset_index(drop=True)"
      ],
      "id": "a9b63949-3e0d-4bc8-be9e-c313c2602a26"
    },
    {
      "cell_type": "markdown",
      "metadata": {},
      "source": [
        "## Result Table\n",
        "\n",
        "Let’s compute a result table, showing MiB/s for each algorithm:"
      ],
      "id": "4cb45a2e-8d06-46c6-9aa8-62045ea204a5"
    },
    {
      "cell_type": "code",
      "execution_count": 4,
      "metadata": {},
      "outputs": [
        {
          "output_type": "display_data",
          "metadata": {},
          "data": {
            "text/html": [
              "<style type=\"text/css\">\n",
              "</style>\n",
              "<table id=\"T_190e6\" class=\"dataframe table table-striped\">\n",
              "  <thead>\n",
              "    <tr>\n",
              "      <th class=\"index_name level0\" >hash</th>\n",
              "      <th id=\"T_190e6_level0_col0\" class=\"col_heading level0 col0\" >MD5</th>\n",
              "      <th id=\"T_190e6_level0_col1\" class=\"col_heading level0 col1\" >SHA-1</th>\n",
              "      <th id=\"T_190e6_level0_col2\" class=\"col_heading level0 col2\" >SHA-256</th>\n",
              "      <th id=\"T_190e6_level0_col3\" class=\"col_heading level0 col3\" >SHA-512</th>\n",
              "      <th id=\"T_190e6_level0_col4\" class=\"col_heading level0 col4\" >SHA3-256</th>\n",
              "      <th id=\"T_190e6_level0_col5\" class=\"col_heading level0 col5\" >SHA3-512</th>\n",
              "    </tr>\n",
              "    <tr>\n",
              "      <th class=\"index_name level0\" >System</th>\n",
              "      <th class=\"blank col0\" >&nbsp;</th>\n",
              "      <th class=\"blank col1\" >&nbsp;</th>\n",
              "      <th class=\"blank col2\" >&nbsp;</th>\n",
              "      <th class=\"blank col3\" >&nbsp;</th>\n",
              "      <th class=\"blank col4\" >&nbsp;</th>\n",
              "      <th class=\"blank col5\" >&nbsp;</th>\n",
              "    </tr>\n",
              "  </thead>\n",
              "  <tbody>\n",
              "    <tr>\n",
              "      <th id=\"T_190e6_level0_row0\" class=\"row_heading level0 row0\" >Atom D2701</th>\n",
              "      <td id=\"T_190e6_row0_col0\" class=\"data row0 col0\" >173.4</td>\n",
              "      <td id=\"T_190e6_row0_col1\" class=\"data row0 col1\" >117.0</td>\n",
              "      <td id=\"T_190e6_row0_col2\" class=\"data row0 col2\" >24.0</td>\n",
              "      <td id=\"T_190e6_row0_col3\" class=\"data row0 col3\" >77.1</td>\n",
              "      <td id=\"T_190e6_row0_col4\" class=\"data row0 col4\" >48.1</td>\n",
              "      <td id=\"T_190e6_row0_col5\" class=\"data row0 col5\" >29.0</td>\n",
              "    </tr>\n",
              "    <tr>\n",
              "      <th id=\"T_190e6_level0_row1\" class=\"row_heading level0 row1\" >MBA M2</th>\n",
              "      <td id=\"T_190e6_row1_col0\" class=\"data row1 col0\" >594.7</td>\n",
              "      <td id=\"T_190e6_row1_col1\" class=\"data row1 col1\" >864.4</td>\n",
              "      <td id=\"T_190e6_row1_col2\" class=\"data row1 col2\" >347.1</td>\n",
              "      <td id=\"T_190e6_row1_col3\" class=\"data row1 col3\" >552.3</td>\n",
              "      <td id=\"T_190e6_row1_col4\" class=\"data row1 col4\" >613.4</td>\n",
              "      <td id=\"T_190e6_row1_col5\" class=\"data row1 col5\" >323.6</td>\n",
              "    </tr>\n",
              "    <tr>\n",
              "      <th id=\"T_190e6_level0_row2\" class=\"row_heading level0 row2\" >i7-1185G7 SL4</th>\n",
              "      <td id=\"T_190e6_row2_col0\" class=\"data row2 col0\" >575.9</td>\n",
              "      <td id=\"T_190e6_row2_col1\" class=\"data row2 col1\" >1774.3</td>\n",
              "      <td id=\"T_190e6_row2_col2\" class=\"data row2 col2\" >1652.5</td>\n",
              "      <td id=\"T_190e6_row2_col3\" class=\"data row2 col3\" >483.4</td>\n",
              "      <td id=\"T_190e6_row2_col4\" class=\"data row2 col4\" >348.4</td>\n",
              "      <td id=\"T_190e6_row2_col5\" class=\"data row2 col5\" >182.7</td>\n",
              "    </tr>\n",
              "    <tr>\n",
              "      <th id=\"T_190e6_level0_row3\" class=\"row_heading level0 row3\" >i9-9900</th>\n",
              "      <td id=\"T_190e6_row3_col0\" class=\"data row3 col0\" >789.1</td>\n",
              "      <td id=\"T_190e6_row3_col1\" class=\"data row3 col1\" >741.0</td>\n",
              "      <td id=\"T_190e6_row3_col2\" class=\"data row3 col2\" >288.7</td>\n",
              "      <td id=\"T_190e6_row3_col3\" class=\"data row3 col3\" >548.6</td>\n",
              "      <td id=\"T_190e6_row3_col4\" class=\"data row3 col4\" >374.8</td>\n",
              "      <td id=\"T_190e6_row3_col5\" class=\"data row3 col5\" >198.4</td>\n",
              "    </tr>\n",
              "  </tbody>\n",
              "</table>"
            ]
          }
        }
      ],
      "source": [
        "tbl = results.pivot(index='System', columns='hash', values='MiB/s')\n",
        "tbl.style.format(precision=1).set_table_attributes('class=\"dataframe table table-striped\"')"
      ],
      "id": "72867aca-61aa-4a5e-b19b-ac29b7aa51b7"
    },
    {
      "cell_type": "markdown",
      "metadata": {},
      "source": [
        "And a barchart for fun:"
      ],
      "id": "61906d37-ccf2-47bc-9cf3-35eb13983026"
    },
    {
      "cell_type": "code",
      "execution_count": 5,
      "metadata": {},
      "outputs": [
        {
          "output_type": "display_data",
          "metadata": {},
          "data": {
            "image/png": "[encoded data removed]"
          }
        }
      ],
      "source": [
        "tbl.T.plot.barh()\n",
        "plt.xlabel('MiB/s')\n",
        "plt.ylabel('Hash')\n",
        "plt.show()"
      ],
      "id": "0b152b1f-dcb9-4435-aef3-7ed88bf940b3"
    },
    {
      "cell_type": "markdown",
      "metadata": {},
      "source": [
        "The i7-11xx processors have Intel’s SHA hash extensions which RustCrypto\n",
        "can use for SHA-1 and SHA-256, which explains the substantially higher\n",
        "performance of those hashes on that chip, even though it is a laptop CPU\n",
        "(compared to the desktop i9 in the test processors)."
      ],
      "id": "ee4b87ed-6060-4de9-8144-7cb8c0d4b978"
    }
  ],
  "nbformat": 4,
  "nbformat_minor": 5,
  "metadata": {
    "kernelspec": {
      "name": "python3",
      "display_name": "Python 3 (ipykernel)",
      "language": "python"
    }
  }
}