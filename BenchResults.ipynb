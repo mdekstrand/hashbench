{
 "cells": [
  {
   "cell_type": "markdown",
   "id": "72a82190",
   "metadata": {},
   "source": [
    "# Benchmark Results\n",
    "\n",
    "This notebook shows the results of running the benchmark program on various systems."
   ]
  },
  {
   "cell_type": "markdown",
   "id": "5b517b0b",
   "metadata": {},
   "source": [
    "## Setup\n",
    "\n",
    "Let's import some libraries we will need:"
   ]
  },
  {
   "cell_type": "code",
   "execution_count": 1,
   "id": "af8d4d4d",
   "metadata": {},
   "outputs": [],
   "source": [
    "from pathlib import Path\n",
    "import pandas as pd\n",
    "import matplotlib.pyplot as plt"
   ]
  },
  {
   "cell_type": "markdown",
   "id": "23ec9e01",
   "metadata": {},
   "source": [
    "And import the results:"
   ]
  },
  {
   "cell_type": "code",
   "execution_count": 2,
   "id": "7eb69096",
   "metadata": {},
   "outputs": [],
   "source": [
    "rdir = Path('results')"
   ]
  },
  {
   "cell_type": "code",
   "execution_count": 3,
   "id": "0410df1c",
   "metadata": {},
   "outputs": [],
   "source": [
    "results = pd.concat({\n",
    "    f.stem: pd.read_table(f, sep='\\t')\n",
    "    for f in rdir.glob('*.tsv')\n",
    "}, names=['System']).reset_index('System').reset_index(drop=True)"
   ]
  },
  {
   "cell_type": "markdown",
   "id": "ec42f70e",
   "metadata": {},
   "source": [
    "## Result Table\n",
    "\n",
    "Let's compute a result table, showing MiB/s for each algorithm:"
   ]
  },
  {
   "cell_type": "code",
   "execution_count": 4,
   "id": "9e82e751",
   "metadata": {},
   "outputs": [
    {
     "data": {
      "text/html": [
       "<div>\n",
       "<style scoped>\n",
       "    .dataframe tbody tr th:only-of-type {\n",
       "        vertical-align: middle;\n",
       "    }\n",
       "\n",
       "    .dataframe tbody tr th {\n",
       "        vertical-align: top;\n",
       "    }\n",
       "\n",
       "    .dataframe thead th {\n",
       "        text-align: right;\n",
       "    }\n",
       "</style>\n",
       "<table border=\"1\" class=\"dataframe\">\n",
       "  <thead>\n",
       "    <tr style=\"text-align: right;\">\n",
       "      <th>hash</th>\n",
       "      <th>MD5</th>\n",
       "      <th>SHA-1</th>\n",
       "      <th>SHA-256</th>\n",
       "      <th>SHA-512</th>\n",
       "      <th>SHA3-256</th>\n",
       "      <th>SHA3-512</th>\n",
       "    </tr>\n",
       "    <tr>\n",
       "      <th>System</th>\n",
       "      <th></th>\n",
       "      <th></th>\n",
       "      <th></th>\n",
       "      <th></th>\n",
       "      <th></th>\n",
       "      <th></th>\n",
       "    </tr>\n",
       "  </thead>\n",
       "  <tbody>\n",
       "    <tr>\n",
       "      <th>Atom D2701</th>\n",
       "      <td>173.441655</td>\n",
       "      <td>117.030172</td>\n",
       "      <td>24.028131</td>\n",
       "      <td>77.119714</td>\n",
       "      <td>48.139402</td>\n",
       "      <td>29.028915</td>\n",
       "    </tr>\n",
       "    <tr>\n",
       "      <th>MBA M2</th>\n",
       "      <td>594.688373</td>\n",
       "      <td>864.382926</td>\n",
       "      <td>347.134836</td>\n",
       "      <td>552.295339</td>\n",
       "      <td>613.384104</td>\n",
       "      <td>323.613251</td>\n",
       "    </tr>\n",
       "    <tr>\n",
       "      <th>i7-1185G7 SL4</th>\n",
       "      <td>575.862766</td>\n",
       "      <td>1774.271374</td>\n",
       "      <td>1652.526270</td>\n",
       "      <td>483.402343</td>\n",
       "      <td>348.436099</td>\n",
       "      <td>182.719920</td>\n",
       "    </tr>\n",
       "  </tbody>\n",
       "</table>\n",
       "</div>"
      ],
      "text/plain": [
       "hash                  MD5        SHA-1      SHA-256     SHA-512    SHA3-256  \\\n",
       "System                                                                        \n",
       "Atom D2701     173.441655   117.030172    24.028131   77.119714   48.139402   \n",
       "MBA M2         594.688373   864.382926   347.134836  552.295339  613.384104   \n",
       "i7-1185G7 SL4  575.862766  1774.271374  1652.526270  483.402343  348.436099   \n",
       "\n",
       "hash             SHA3-512  \n",
       "System                     \n",
       "Atom D2701      29.028915  \n",
       "MBA M2         323.613251  \n",
       "i7-1185G7 SL4  182.719920  "
      ]
     },
     "execution_count": 4,
     "metadata": {},
     "output_type": "execute_result"
    }
   ],
   "source": [
    "tbl = results.pivot(index='System', columns='hash', values='MiB/s')\n",
    "tbl"
   ]
  },
  {
   "cell_type": "markdown",
   "id": "fe310323",
   "metadata": {},
   "source": [
    "And a barchart for fun:"
   ]
  },
  {
   "cell_type": "code",
   "execution_count": 5,
   "id": "69309f47",
   "metadata": {},
   "outputs": [
    {
     "data": {
      "image/png": "[encoded data removed]",
      "text/plain": [
       "<Figure size 640x480 with 1 Axes>"
      ]
     },
     "metadata": {},
     "output_type": "display_data"
    }
   ],
   "source": [
    "tbl.T.plot.barh()\n",
    "plt.xlabel('MiB/s')\n",
    "plt.ylabel('Hash')\n",
    "plt.show()"
   ]
  },
  {
   "cell_type": "code",
   "execution_count": null,
   "id": "69c0b308",
   "metadata": {},
   "outputs": [],
   "source": []
  }
 ],
 "metadata": {
  "jupytext": {
   "formats": "ipynb,md:myst"
  },
  "kernelspec": {
   "display_name": "Python 3 (ipykernel)",
   "language": "python",
   "name": "python3"
  },
  "language_info": {
   "codemirror_mode": {
    "name": "ipython",
    "version": 3
   },
   "file_extension": ".py",
   "mimetype": "text/x-python",
   "name": "python",
   "nbconvert_exporter": "python",
   "pygments_lexer": "ipython3",
   "version": "3.10.8"
  }
 },
 "nbformat": 4,
 "nbformat_minor": 5
}
